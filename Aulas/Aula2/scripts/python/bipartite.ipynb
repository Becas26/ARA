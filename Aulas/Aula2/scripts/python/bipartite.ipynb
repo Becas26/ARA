{
 "cells": [
  {
   "cell_type": "code",
   "execution_count": 18,
   "id": "3b4909ba-4ffd-4c0a-a5fa-0be2fe59c2d1",
   "metadata": {},
   "outputs": [],
   "source": [
    "import networkx as nx\n",
    "from networkx.algorithms import bipartite\n",
    "import pandas as pd"
   ]
  },
  {
   "cell_type": "code",
   "execution_count": 6,
   "id": "6a6a34a0-8666-423a-ae96-3231825f5352",
   "metadata": {},
   "outputs": [],
   "source": [
    "net = pd.read_csv(\"../../nets/cac 40 v1 - edges.csv\")"
   ]
  },
  {
   "cell_type": "code",
   "execution_count": 7,
   "id": "0ee3f828-55f5-4313-9929-7da543f2d23d",
   "metadata": {},
   "outputs": [],
   "source": [
    "G = nx.from_pandas_edgelist(net,'from','to')"
   ]
  },
  {
   "cell_type": "code",
   "execution_count": 16,
   "id": "e41d75a3-ff51-4cab-87c3-dfb7ded57bb2",
   "metadata": {},
   "outputs": [
    {
     "data": {
      "text/plain": [
       "True"
      ]
     },
     "execution_count": 16,
     "metadata": {},
     "output_type": "execute_result"
    }
   ],
   "source": [
    "nx.is_bipartite(G)"
   ]
  },
  {
   "cell_type": "code",
   "execution_count": 20,
   "id": "22f61004-5b9a-4af5-8173-99c97f8a1bf0",
   "metadata": {},
   "outputs": [],
   "source": [
    "G0 = bipartite.projected_graph(G, bipartite.sets(G)[0])"
   ]
  },
  {
   "cell_type": "code",
   "execution_count": 21,
   "id": "c0a98c2a-7a72-495b-925b-9eda2448b49b",
   "metadata": {},
   "outputs": [],
   "source": [
    "G1 = bipartite.projected_graph(G, bipartite.sets(G)[1])"
   ]
  },
  {
   "cell_type": "code",
   "execution_count": 27,
   "id": "ea86e2cf-00c2-4234-aa76-92e76d8de636",
   "metadata": {},
   "outputs": [
    {
     "name": "stdout",
     "output_type": "stream",
     "text": [
      "('ALBERT_FRERE', 'MARIE_LAURE_SAUTY_DE_CHALON')\n",
      "('ALBERT_FRERE', 'GERARD_MESTRALLET')\n",
      "('ALBERT_FRERE', 'CHARLES_DE_CROISSET')\n",
      "('ALBERT_FRERE', 'ALDO_CARDOSO')\n",
      "('ALBERT_FRERE', 'HUBERT_VEDRINE')\n",
      "('ALBERT_FRERE', 'BRUNO_BEZARD')\n",
      "('ALBERT_FRERE', 'FRANCESCO_TRAPANI')\n",
      "('ALBERT_FRERE', 'NICHOLAS_CLIVE_WORMS')\n",
      "('ALBERT_FRERE', 'BERNARD_ARNAUD')\n",
      "('ALBERT_FRERE', 'ASTRID_MILSAN')\n",
      "('ALBERT_FRERE', 'GERARD_LAMARCHE')\n",
      "('ALBERT_FRERE', 'MARIE_JOSEE_KRAVIS')\n",
      "('ALBERT_FRERE', 'SIMON_OF_HIGHBURY')\n",
      "('ALBERT_FRERE', 'CHARLES_POWELL')\n",
      "('ALBERT_FRERE', 'JEAN_LOUIS_BEFFA')\n",
      "('ALBERT_FRERE', 'ANN_KRISTIN_ACHLEITNER')\n",
      "('ALBERT_FRERE', 'BERNADETTE_CHIRAC')\n",
      "('ALBERT_FRERE', 'FRANCOISE_MALRIEU')\n",
      "('ALBERT_FRERE', 'FLORENCE_TORDJMAN')\n",
      "('ALBERT_FRERE', 'DIEGO_DELLA_VALLE')\n",
      "('ALBERT_FRERE', 'ANTONIO_BELLONI')\n",
      "('ALBERT_FRERE', 'PIERRE_GODE')\n",
      "('ALBERT_FRERE', 'PIERRE_MONGIN')\n",
      "('ALBERT_FRERE', 'YVES_THIBAULT_DE_SILGUY')\n",
      "('ALBERT_FRERE', 'DELPHINE_ARNAULT')\n",
      "('ALBERT_FRERE', 'LAURENT_MICHEL')\n",
      "('ALBERT_FRERE', 'STEPHANE_PALLEZ')\n",
      "('ALBERT_FRERE', 'EDMOND_ALPHANDERY')\n",
      "('ALBERT_FRERE', 'JEAN_FRANCOIS_CIRELLI')\n",
      "('ALBERT_FRERE', 'NICOLAS_BAZIRE')\n"
     ]
    }
   ],
   "source": [
    "for e in list(G0.edges('ALBERT_FRERE')):\n",
    "    print(e)"
   ]
  },
  {
   "cell_type": "code",
   "execution_count": 28,
   "id": "8c2bdebf-08d2-4810-b427-f1304e4cd91f",
   "metadata": {},
   "outputs": [
    {
     "name": "stdout",
     "output_type": "stream",
     "text": [
      "('GDF_SUEZ', 'TOTAL')\n",
      "('GDF_SUEZ', 'LAFARGE')\n",
      "('GDF_SUEZ', 'SAFRAN')\n",
      "('GDF_SUEZ', 'LVMH')\n",
      "('GDF_SUEZ', 'SAINT_GOBAIN')\n",
      "('GDF_SUEZ', 'LEGRAND')\n"
     ]
    }
   ],
   "source": [
    "for e in list(G1.edges('GDF_SUEZ')):\n",
    "    print(e)"
   ]
  },
  {
   "cell_type": "code",
   "execution_count": 29,
   "id": "8dc89f5a-83d8-41bf-bd9f-89812b3e4525",
   "metadata": {},
   "outputs": [
    {
     "name": "stdout",
     "output_type": "stream",
     "text": [
      "Graph with 40 nodes and 108 edges\n"
     ]
    }
   ],
   "source": [
    "print(G1)"
   ]
  },
  {
   "cell_type": "code",
   "execution_count": null,
   "id": "9aabfa5b-37c9-4e47-92b8-2d81ee99995b",
   "metadata": {},
   "outputs": [],
   "source": []
  }
 ],
 "metadata": {
  "kernelspec": {
   "display_name": "Python 3 (ipykernel)",
   "language": "python",
   "name": "python3"
  },
  "language_info": {
   "codemirror_mode": {
    "name": "ipython",
    "version": 3
   },
   "file_extension": ".py",
   "mimetype": "text/x-python",
   "name": "python",
   "nbconvert_exporter": "python",
   "pygments_lexer": "ipython3",
   "version": "3.9.12"
  }
 },
 "nbformat": 4,
 "nbformat_minor": 5
}
