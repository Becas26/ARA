{
 "cells": [
  {
   "cell_type": "markdown",
   "id": "6bcc96c626a598b0",
   "metadata": {},
   "source": [
    "### Imports"
   ]
  },
  {
   "cell_type": "code",
   "id": "initial_id",
   "metadata": {
    "ExecuteTime": {
     "end_time": "2024-11-28T01:16:36.633425Z",
     "start_time": "2024-11-28T01:16:36.627107Z"
    }
   },
   "source": [
    "import sys\n",
    "import os\n",
    "import pandas as pd\n",
    "import matplotlib.pyplot as plt\n",
    "import seaborn as sns\n",
    "from pathlib import Path\n",
    "\n",
    "# Caminho da pasta \"Twitch\"\n",
    "base_dir = Path(os.getcwd()).resolve().parent  # Ajuste se necessário\n",
    "\n",
    "# Adicionar as pasta ao sys.path\n",
    "visualization_dir = base_dir / 'src' / 'visualization'\n",
    "getData_dir = base_dir / 'src' / 'data'\n",
    "sys.path.append(str(visualization_dir))\n",
    "sys.path.append(str(getData_dir))\n",
    "\n",
    "# Importar os módulos\n",
    "try:\n",
    "    import AllCountriesTwitchStudy\n",
    "    import CountryTwitchStudy\n",
    "except ImportError:\n",
    "    print(\"Erro: Não foi possível importar algum módulo. Verifique se o caminho está correto.\")\n",
    "\n",
    "# Paises\n",
    "countries = [\"PTBR\", \"DE\", \"ENGB\", \"ES\", \"FR\", \"RU\"]"
   ],
   "outputs": [
    {
     "name": "stdout",
     "output_type": "stream",
     "text": [
      "Erro: Não foi possível importar algum módulo. Verifique se o caminho está correto.\n"
     ]
    }
   ],
   "execution_count": 1
  },
  {
   "cell_type": "code",
   "id": "8a0ae201-8eb2-4b8d-8103-f7a87c5d2f97",
   "metadata": {
    "ExecuteTime": {
     "end_time": "2024-11-28T01:16:36.639175Z",
     "start_time": "2024-11-28T01:16:36.635974Z"
    }
   },
   "source": [
    "# Configuração de estilo dos gráficos\n",
    "plt.style.use('dark_background')\n",
    "sns.set_palette(\"colorblind\")\n",
    "plt.rcParams['figure.figsize'] = (10, 6)\n",
    "plt.rcParams['axes.titlesize'] = 18\n",
    "plt.rcParams['axes.labelsize'] = 14\n",
    "plt.rcParams['xtick.labelsize'] = 12\n",
    "plt.rcParams['ytick.labelsize'] = 12"
   ],
   "outputs": [],
   "execution_count": 2
  },
  {
   "cell_type": "markdown",
   "id": "e04ae723ad120c50",
   "metadata": {},
   "source": [
    "## Calcular as variáveis"
   ]
  },
  {
   "cell_type": "markdown",
   "id": "7625baad04fe5675",
   "metadata": {},
   "source": [
    "<b> NOTA: O código Abaixo só devo ser corrido caso seja necessário recalcular as novas variáveis! </b>"
   ]
  },
  {
   "cell_type": "raw",
   "id": "887580db281ba26a",
   "metadata": {},
   "source": [
    "# Obter o Diretório Atual\n",
    "current_dir = Path.cwd()\n",
    "\n",
    "# Calcular os dados de cada um dos países | Os dados estarão no formato twitch_network_metrics_{country}.csv\n",
    "for country in countries:\n",
    "    AllCountriesTwitchStudy.StudyAllCountries(country)\n",
    "\n",
    "# Calcular os dados gerais de todos os países, para comparação\n",
    "AllCountriesTwitchStudy.StudyAllCountries()"
   ]
  },
  {
   "cell_type": "markdown",
   "id": "23e11c7d2baf1542",
   "metadata": {},
   "source": [
    "### Visualizar um exemplo dos dados"
   ]
  },
  {
   "cell_type": "code",
   "id": "68642baf3743cd63",
   "metadata": {
    "ExecuteTime": {
     "end_time": "2024-11-28T01:16:37.005108Z",
     "start_time": "2024-11-28T01:16:36.988580Z"
    }
   },
   "source": [
    "pais = countries[4]\n",
    "df = pd.read_csv(base_dir / 'data' / pais / f'twitch_network_metrics_{pais}.csv', sep = ',', encoding='utf-8')\n",
    "df"
   ],
   "outputs": [
    {
     "data": {
      "text/plain": [
       "      node  degree  degree_centrality  closeness_centrality  \\\n",
       "0     2161    2040           0.311546              0.573732   \n",
       "1      771    1695           0.258858              0.546578   \n",
       "2     5968    1666           0.254429              0.544940   \n",
       "3     5511    1500           0.229078              0.529731   \n",
       "4     5543    1216           0.185706              0.515347   \n",
       "...    ...     ...                ...                   ...   \n",
       "6544  6007       1           0.000153              0.256011   \n",
       "6545  5630       1           0.000153              0.256222   \n",
       "6546  2910       1           0.000153              0.301557   \n",
       "6547  1621       1           0.000153              0.326763   \n",
       "6548  2212       1           0.000153              0.325593   \n",
       "\n",
       "      betweenness_centrality  eigenvector_centrality  community_leiden  \\\n",
       "0                   0.100286                0.214575                 1   \n",
       "1                   0.075860                0.164950                 2   \n",
       "2                   0.060976                0.175629                 1   \n",
       "3                   0.057995                0.146893                 1   \n",
       "4                   0.037549                0.123553                 1   \n",
       "...                      ...                     ...               ...   \n",
       "6544                0.000000                0.000019                 4   \n",
       "6545                0.000000                0.000020                 0   \n",
       "6546                0.000000                0.000127                 0   \n",
       "6547                0.000000                0.000514                 1   \n",
       "6548                0.000000                0.000376                 0   \n",
       "\n",
       "         views  partner  mature  days  clustering_coef  \n",
       "0     44374644     True    True  2027         0.014507  \n",
       "1     17166188     True   False  2419         0.016077  \n",
       "2     42801507     True   False   610         0.014081  \n",
       "3     44534929     True   False  2613         0.014473  \n",
       "4      4890741     True   False  1783         0.013790  \n",
       "...        ...      ...     ...   ...              ...  \n",
       "6544      1574    False   False   978         0.000000  \n",
       "6545     13179    False    True  2056         0.000000  \n",
       "6546       601    False   False   416         0.000000  \n",
       "6547      4124    False    True  2100         0.000000  \n",
       "6548      3938    False   False  1777         0.000000  \n",
       "\n",
       "[6549 rows x 12 columns]"
      ],
      "text/html": [
       "<div>\n",
       "<style scoped>\n",
       "    .dataframe tbody tr th:only-of-type {\n",
       "        vertical-align: middle;\n",
       "    }\n",
       "\n",
       "    .dataframe tbody tr th {\n",
       "        vertical-align: top;\n",
       "    }\n",
       "\n",
       "    .dataframe thead th {\n",
       "        text-align: right;\n",
       "    }\n",
       "</style>\n",
       "<table border=\"1\" class=\"dataframe\">\n",
       "  <thead>\n",
       "    <tr style=\"text-align: right;\">\n",
       "      <th></th>\n",
       "      <th>node</th>\n",
       "      <th>degree</th>\n",
       "      <th>degree_centrality</th>\n",
       "      <th>closeness_centrality</th>\n",
       "      <th>betweenness_centrality</th>\n",
       "      <th>eigenvector_centrality</th>\n",
       "      <th>community_leiden</th>\n",
       "      <th>views</th>\n",
       "      <th>partner</th>\n",
       "      <th>mature</th>\n",
       "      <th>days</th>\n",
       "      <th>clustering_coef</th>\n",
       "    </tr>\n",
       "  </thead>\n",
       "  <tbody>\n",
       "    <tr>\n",
       "      <th>0</th>\n",
       "      <td>2161</td>\n",
       "      <td>2040</td>\n",
       "      <td>0.311546</td>\n",
       "      <td>0.573732</td>\n",
       "      <td>0.100286</td>\n",
       "      <td>0.214575</td>\n",
       "      <td>1</td>\n",
       "      <td>44374644</td>\n",
       "      <td>True</td>\n",
       "      <td>True</td>\n",
       "      <td>2027</td>\n",
       "      <td>0.014507</td>\n",
       "    </tr>\n",
       "    <tr>\n",
       "      <th>1</th>\n",
       "      <td>771</td>\n",
       "      <td>1695</td>\n",
       "      <td>0.258858</td>\n",
       "      <td>0.546578</td>\n",
       "      <td>0.075860</td>\n",
       "      <td>0.164950</td>\n",
       "      <td>2</td>\n",
       "      <td>17166188</td>\n",
       "      <td>True</td>\n",
       "      <td>False</td>\n",
       "      <td>2419</td>\n",
       "      <td>0.016077</td>\n",
       "    </tr>\n",
       "    <tr>\n",
       "      <th>2</th>\n",
       "      <td>5968</td>\n",
       "      <td>1666</td>\n",
       "      <td>0.254429</td>\n",
       "      <td>0.544940</td>\n",
       "      <td>0.060976</td>\n",
       "      <td>0.175629</td>\n",
       "      <td>1</td>\n",
       "      <td>42801507</td>\n",
       "      <td>True</td>\n",
       "      <td>False</td>\n",
       "      <td>610</td>\n",
       "      <td>0.014081</td>\n",
       "    </tr>\n",
       "    <tr>\n",
       "      <th>3</th>\n",
       "      <td>5511</td>\n",
       "      <td>1500</td>\n",
       "      <td>0.229078</td>\n",
       "      <td>0.529731</td>\n",
       "      <td>0.057995</td>\n",
       "      <td>0.146893</td>\n",
       "      <td>1</td>\n",
       "      <td>44534929</td>\n",
       "      <td>True</td>\n",
       "      <td>False</td>\n",
       "      <td>2613</td>\n",
       "      <td>0.014473</td>\n",
       "    </tr>\n",
       "    <tr>\n",
       "      <th>4</th>\n",
       "      <td>5543</td>\n",
       "      <td>1216</td>\n",
       "      <td>0.185706</td>\n",
       "      <td>0.515347</td>\n",
       "      <td>0.037549</td>\n",
       "      <td>0.123553</td>\n",
       "      <td>1</td>\n",
       "      <td>4890741</td>\n",
       "      <td>True</td>\n",
       "      <td>False</td>\n",
       "      <td>1783</td>\n",
       "      <td>0.013790</td>\n",
       "    </tr>\n",
       "    <tr>\n",
       "      <th>...</th>\n",
       "      <td>...</td>\n",
       "      <td>...</td>\n",
       "      <td>...</td>\n",
       "      <td>...</td>\n",
       "      <td>...</td>\n",
       "      <td>...</td>\n",
       "      <td>...</td>\n",
       "      <td>...</td>\n",
       "      <td>...</td>\n",
       "      <td>...</td>\n",
       "      <td>...</td>\n",
       "      <td>...</td>\n",
       "    </tr>\n",
       "    <tr>\n",
       "      <th>6544</th>\n",
       "      <td>6007</td>\n",
       "      <td>1</td>\n",
       "      <td>0.000153</td>\n",
       "      <td>0.256011</td>\n",
       "      <td>0.000000</td>\n",
       "      <td>0.000019</td>\n",
       "      <td>4</td>\n",
       "      <td>1574</td>\n",
       "      <td>False</td>\n",
       "      <td>False</td>\n",
       "      <td>978</td>\n",
       "      <td>0.000000</td>\n",
       "    </tr>\n",
       "    <tr>\n",
       "      <th>6545</th>\n",
       "      <td>5630</td>\n",
       "      <td>1</td>\n",
       "      <td>0.000153</td>\n",
       "      <td>0.256222</td>\n",
       "      <td>0.000000</td>\n",
       "      <td>0.000020</td>\n",
       "      <td>0</td>\n",
       "      <td>13179</td>\n",
       "      <td>False</td>\n",
       "      <td>True</td>\n",
       "      <td>2056</td>\n",
       "      <td>0.000000</td>\n",
       "    </tr>\n",
       "    <tr>\n",
       "      <th>6546</th>\n",
       "      <td>2910</td>\n",
       "      <td>1</td>\n",
       "      <td>0.000153</td>\n",
       "      <td>0.301557</td>\n",
       "      <td>0.000000</td>\n",
       "      <td>0.000127</td>\n",
       "      <td>0</td>\n",
       "      <td>601</td>\n",
       "      <td>False</td>\n",
       "      <td>False</td>\n",
       "      <td>416</td>\n",
       "      <td>0.000000</td>\n",
       "    </tr>\n",
       "    <tr>\n",
       "      <th>6547</th>\n",
       "      <td>1621</td>\n",
       "      <td>1</td>\n",
       "      <td>0.000153</td>\n",
       "      <td>0.326763</td>\n",
       "      <td>0.000000</td>\n",
       "      <td>0.000514</td>\n",
       "      <td>1</td>\n",
       "      <td>4124</td>\n",
       "      <td>False</td>\n",
       "      <td>True</td>\n",
       "      <td>2100</td>\n",
       "      <td>0.000000</td>\n",
       "    </tr>\n",
       "    <tr>\n",
       "      <th>6548</th>\n",
       "      <td>2212</td>\n",
       "      <td>1</td>\n",
       "      <td>0.000153</td>\n",
       "      <td>0.325593</td>\n",
       "      <td>0.000000</td>\n",
       "      <td>0.000376</td>\n",
       "      <td>0</td>\n",
       "      <td>3938</td>\n",
       "      <td>False</td>\n",
       "      <td>False</td>\n",
       "      <td>1777</td>\n",
       "      <td>0.000000</td>\n",
       "    </tr>\n",
       "  </tbody>\n",
       "</table>\n",
       "<p>6549 rows × 12 columns</p>\n",
       "</div>"
      ]
     },
     "execution_count": 3,
     "metadata": {},
     "output_type": "execute_result"
    }
   ],
   "execution_count": 3
  },
  {
   "cell_type": "markdown",
   "id": "179027ff-e1ed-4b74-9aea-0b20ac547c6b",
   "metadata": {},
   "source": [
    "## Comparação entre as diferentes regiões"
   ]
  },
  {
   "cell_type": "code",
   "id": "84738d26-1ca4-457f-9137-78c7e3a3a4e6",
   "metadata": {
    "ExecuteTime": {
     "end_time": "2024-11-28T01:16:38.536823Z",
     "start_time": "2024-11-28T01:16:38.527965Z"
    }
   },
   "source": [
    "df = pd.read_csv(base_dir / 'data' / 'Resultados' / 'network_metrics_summary.csv', sep = ',', encoding='utf-8')\n",
    "df"
   ],
   "outputs": [
    {
     "data": {
      "text/plain": [
       "  Country  Number of Nodes  Number of Edges  Number of Components  Diameter  \\\n",
       "0    PTBR             1912            31299                     1         7   \n",
       "1      DE             9498           153138                     1         7   \n",
       "2    ENGB             7126            35324                     1        10   \n",
       "3      ES             4648            59382                     1         9   \n",
       "4      FR             6549           112666                     1         7   \n",
       "5      RU             4385            37304                     1         9   \n",
       "\n",
       "    Density  Average Clustering Coefficient  Average Path Length  \\\n",
       "0  0.017132                        0.319895             2.532379   \n",
       "1  0.003395                        0.200886             2.721571   \n",
       "2  0.001391                        0.130928             3.677616   \n",
       "3  0.005499                        0.222496             2.883191   \n",
       "4  0.005255                        0.221706             2.680991   \n",
       "5  0.003881                        0.165797             3.021095   \n",
       "\n",
       "   Assortativity  Number of Mature Nodes  Number of Non-Mature Nodes  \\\n",
       "0      -0.232462                     661                        1251   \n",
       "1      -0.115173                    5742                        3756   \n",
       "2      -0.121908                    3888                        3238   \n",
       "3      -0.189051                    1360                        3288   \n",
       "4      -0.178151                    2414                        4135   \n",
       "5      -0.182289                    1075                        3310   \n",
       "\n",
       "   Number of Partner Nodes  Number of Non-Partner Nodes  \n",
       "0                      279                         1633  \n",
       "1                      597                         8901  \n",
       "2                      384                         6742  \n",
       "3                      395                         4253  \n",
       "4                      408                         6141  \n",
       "5                      474                         3911  "
      ],
      "text/html": [
       "<div>\n",
       "<style scoped>\n",
       "    .dataframe tbody tr th:only-of-type {\n",
       "        vertical-align: middle;\n",
       "    }\n",
       "\n",
       "    .dataframe tbody tr th {\n",
       "        vertical-align: top;\n",
       "    }\n",
       "\n",
       "    .dataframe thead th {\n",
       "        text-align: right;\n",
       "    }\n",
       "</style>\n",
       "<table border=\"1\" class=\"dataframe\">\n",
       "  <thead>\n",
       "    <tr style=\"text-align: right;\">\n",
       "      <th></th>\n",
       "      <th>Country</th>\n",
       "      <th>Number of Nodes</th>\n",
       "      <th>Number of Edges</th>\n",
       "      <th>Number of Components</th>\n",
       "      <th>Diameter</th>\n",
       "      <th>Density</th>\n",
       "      <th>Average Clustering Coefficient</th>\n",
       "      <th>Average Path Length</th>\n",
       "      <th>Assortativity</th>\n",
       "      <th>Number of Mature Nodes</th>\n",
       "      <th>Number of Non-Mature Nodes</th>\n",
       "      <th>Number of Partner Nodes</th>\n",
       "      <th>Number of Non-Partner Nodes</th>\n",
       "    </tr>\n",
       "  </thead>\n",
       "  <tbody>\n",
       "    <tr>\n",
       "      <th>0</th>\n",
       "      <td>PTBR</td>\n",
       "      <td>1912</td>\n",
       "      <td>31299</td>\n",
       "      <td>1</td>\n",
       "      <td>7</td>\n",
       "      <td>0.017132</td>\n",
       "      <td>0.319895</td>\n",
       "      <td>2.532379</td>\n",
       "      <td>-0.232462</td>\n",
       "      <td>661</td>\n",
       "      <td>1251</td>\n",
       "      <td>279</td>\n",
       "      <td>1633</td>\n",
       "    </tr>\n",
       "    <tr>\n",
       "      <th>1</th>\n",
       "      <td>DE</td>\n",
       "      <td>9498</td>\n",
       "      <td>153138</td>\n",
       "      <td>1</td>\n",
       "      <td>7</td>\n",
       "      <td>0.003395</td>\n",
       "      <td>0.200886</td>\n",
       "      <td>2.721571</td>\n",
       "      <td>-0.115173</td>\n",
       "      <td>5742</td>\n",
       "      <td>3756</td>\n",
       "      <td>597</td>\n",
       "      <td>8901</td>\n",
       "    </tr>\n",
       "    <tr>\n",
       "      <th>2</th>\n",
       "      <td>ENGB</td>\n",
       "      <td>7126</td>\n",
       "      <td>35324</td>\n",
       "      <td>1</td>\n",
       "      <td>10</td>\n",
       "      <td>0.001391</td>\n",
       "      <td>0.130928</td>\n",
       "      <td>3.677616</td>\n",
       "      <td>-0.121908</td>\n",
       "      <td>3888</td>\n",
       "      <td>3238</td>\n",
       "      <td>384</td>\n",
       "      <td>6742</td>\n",
       "    </tr>\n",
       "    <tr>\n",
       "      <th>3</th>\n",
       "      <td>ES</td>\n",
       "      <td>4648</td>\n",
       "      <td>59382</td>\n",
       "      <td>1</td>\n",
       "      <td>9</td>\n",
       "      <td>0.005499</td>\n",
       "      <td>0.222496</td>\n",
       "      <td>2.883191</td>\n",
       "      <td>-0.189051</td>\n",
       "      <td>1360</td>\n",
       "      <td>3288</td>\n",
       "      <td>395</td>\n",
       "      <td>4253</td>\n",
       "    </tr>\n",
       "    <tr>\n",
       "      <th>4</th>\n",
       "      <td>FR</td>\n",
       "      <td>6549</td>\n",
       "      <td>112666</td>\n",
       "      <td>1</td>\n",
       "      <td>7</td>\n",
       "      <td>0.005255</td>\n",
       "      <td>0.221706</td>\n",
       "      <td>2.680991</td>\n",
       "      <td>-0.178151</td>\n",
       "      <td>2414</td>\n",
       "      <td>4135</td>\n",
       "      <td>408</td>\n",
       "      <td>6141</td>\n",
       "    </tr>\n",
       "    <tr>\n",
       "      <th>5</th>\n",
       "      <td>RU</td>\n",
       "      <td>4385</td>\n",
       "      <td>37304</td>\n",
       "      <td>1</td>\n",
       "      <td>9</td>\n",
       "      <td>0.003881</td>\n",
       "      <td>0.165797</td>\n",
       "      <td>3.021095</td>\n",
       "      <td>-0.182289</td>\n",
       "      <td>1075</td>\n",
       "      <td>3310</td>\n",
       "      <td>474</td>\n",
       "      <td>3911</td>\n",
       "    </tr>\n",
       "  </tbody>\n",
       "</table>\n",
       "</div>"
      ]
     },
     "execution_count": 4,
     "metadata": {},
     "output_type": "execute_result"
    }
   ],
   "execution_count": 4
  },
  {
   "cell_type": "markdown",
   "id": "22b459ac-64de-4372-b439-2f99b466239b",
   "metadata": {},
   "source": [
    "### Nodes"
   ]
  },
  {
   "cell_type": "markdown",
   "id": "772a3e00-9348-4fb2-8e6f-21992db6688d",
   "metadata": {},
   "source": [
    "#### **Mature**"
   ]
  },
  {
   "cell_type": "code",
   "id": "ec6c6177-a96d-43ab-8291-67ddaa1d1088",
   "metadata": {
    "ExecuteTime": {
     "end_time": "2024-11-28T01:17:11.136729Z",
     "start_time": "2024-11-28T01:17:10.997416Z"
    }
   },
   "source": [
    "# Plotar as barras para \"Mature Nodes\" e \"Non-Mature Nodes\"\n",
    "plt.bar(df['Country'], df['Number of Mature Nodes'], label='Mature Nodes', color=sns.color_palette(\"Blues\")[2])\n",
    "plt.bar(df['Country'], df['Number of Non-Mature Nodes'], bottom=df['Number of Mature Nodes'], label='Non-Mature Nodes', color=sns.color_palette(\"Oranges\")[2])\n",
    "\n",
    "# Adicionar título e rótulos\n",
    "plt.title('Número de Mature e Non-Mature Nodes por País', fontsize=16)\n",
    "plt.xlabel('País', fontsize=12)\n",
    "plt.ylabel('Número de Nós', fontsize=12)\n",
    "\n",
    "# Adicionar legenda\n",
    "plt.legend()\n",
    "\n",
    "# Exibir o gráfico\n",
    "plt.tight_layout()\n",
    "plt.show()"
   ],
   "outputs": [
    {
     "data": {
      "text/plain": [
       "<Figure size 1000x600 with 1 Axes>"
      ],
      "image/png": "[encoded data removed]"
     },
     "metadata": {},
     "output_type": "display_data"
    }
   ],
   "execution_count": 5
  },
  {
   "cell_type": "markdown",
   "id": "3737b4e7-5ef9-4903-9b97-7579c31c1c2e",
   "metadata": {},
   "source": [
    "No gráfico acima, é possível observar a quantidade total de nós em cada uma das regiões, sendo destacada a proporção de nós com conteúdo _mature_ e _non-mature_. \n",
    "\n",
    "- **Definição de Conta _Mature_:** Na Twitch, uma conta é classificada como **_mature** quando o seu conteúdo é direcionado a um público adulto, geralmente por conter linguagem explícita, temas sensíveis ou outro tipo de material não recomendado para todas as idades.\n",
    "\n",
    "- **Amostra por País:** Nota-se que a região **DE** apresenta a maior amostra de dados, enquanto **PTBR** possui a menor.\n",
    "\n",
    "- **Distribuição de Conteúdo _Mature_:** Apenas as regiões **DE** e **ENGB** possuem uma maioria relativa de nós classificados como _mature_. Nas demais regiões, o número de nós _non-mature_ é predominante.\n",
    "\n",
    "Esta análise permite identificar não apenas a representatividade de cada país, mas também as diferenças na classificação de conteúdo, proporcionando insights importantes sobre as características das comunidades em cada região.\n"
   ]
  },
  {
   "cell_type": "markdown",
   "id": "aaf0802a-eede-4cd1-afb2-bdcac13c2e21",
   "metadata": {},
   "source": [
    "#### **Partner**"
   ]
  },
  {
   "cell_type": "code",
   "id": "009ceebc-cb05-4a75-881c-549ddad05996",
   "metadata": {
    "ExecuteTime": {
     "end_time": "2024-11-28T01:17:19.528260Z",
     "start_time": "2024-11-28T01:17:19.427869Z"
    }
   },
   "source": [
    "# Plotar as barras para \"Mature Nodes\" e \"Non-Mature Nodes\"\n",
    "plt.bar(df['Country'], df['Number of Partner Nodes'], label='Partner Nodes', color='royalblue')\n",
    "plt.bar(df['Country'], df['Number of Non-Partner Nodes'], bottom=df['Number of Partner Nodes'], label='Non-Partner Nodes', color='orange')\n",
    "\n",
    "# Adicionar título e rótulos\n",
    "plt.title('Número de Partner e Non-Partner Nodes por País', fontsize=16)\n",
    "plt.xlabel('País', fontsize=12)\n",
    "plt.ylabel('Número de Nós', fontsize=12)\n",
    "\n",
    "# Adicionar legenda\n",
    "plt.legend()\n",
    "\n",
    "# Exibir o gráfico\n",
    "plt.tight_layout()\n",
    "plt.show()"
   ],
   "outputs": [
    {
     "data": {
      "text/plain": [
       "<Figure size 1000x600 with 1 Axes>"
      ],
      "image/png": "[encoded data removed]"
     },
     "metadata": {},
     "output_type": "display_data"
    }
   ],
   "execution_count": 6
  },
  {
   "cell_type": "markdown",
   "id": "fd156a3f-e671-414e-8ab8-1537b20075e4",
   "metadata": {},
   "source": [
    "No gráfico acima, é possível observar a quantidade total de nós em cada uma das regiões, sendo destacada a proporção de nós classificados como _partner_ e _non-partner_. \n",
    "\n",
    "- **Definição de Conta _Partner_:** Na Twitch, uma conta é classificada como **_partner_** quando o streamer atinge um alto nível de desempenho, incluindo métricas como número de visualizações, consistência de streaming e engajamento da audiência. Os _partners_ recebem benefícios exclusivos, como monetização avançada e suporte personalizado.\n",
    "\n",
    "- **Distribuição de Parceiros:** De forma geral, observa-se que a quantidade de contas _non-partner_ é significativamente maior do que a de _partners_ em todas as regiões analisadas.\n",
    "\n",
    "Esta análise evidencia não apenas a representatividade de cada país, mas também a disparidade no alcance do status de _partner_, refletindo as diferenças no nível de profissionalização das comunidades de streamers em cada região.\n"
   ]
  },
  {
   "cell_type": "markdown",
   "id": "72fa3c07-465c-4772-aef9-86e5ce41e1ae",
   "metadata": {},
   "source": [
    "### Assortativity"
   ]
  },
  {
   "cell_type": "markdown",
   "id": "d46a4967-6039-4830-b86f-592a9cb46aec",
   "metadata": {},
   "source": [
    "Na teoria dos grafos, **assortatividade** (ou coeficiente de assortatividade) mede o grau de correlação entre as características dos vértices que estão conectados por uma aresta. Esta métrica é frequentemente usada para entender padrões de ligação em redes complexas e sociais.\n",
    "\n",
    "**Definição Matemática**\n",
    "Assortatividade é definida como o coeficiente de correlação de Pearson entre as características dos nós em cada extremidade de uma aresta. Pode ser representada matematicamente como:\n",
    "\n",
    "$$\n",
    "r = \\frac{\\sum_{i}(j_i - \\bar{j})(k_i - \\bar{k})}{\\sqrt{\\sum_{i}(j_i - \\bar{j})^2 \\sum_{i}(k_i - \\bar{k})^2}}\n",
    "$$\n",
    "\n",
    "Onde:\n",
    "- $ j_i \\ e \\ k_i $ são os valores das características dos dois nós conectados por uma aresta.\n",
    "- $ \\bar{j} \\ e \\ \\bar{k} $ são as médias das características."
   ]
  },
  {
   "cell_type": "code",
   "id": "dfb01b6a-0af4-4b98-8232-726135c0e8b5",
   "metadata": {
    "ExecuteTime": {
     "end_time": "2024-11-28T01:17:23.763633Z",
     "start_time": "2024-11-28T01:17:23.759963Z"
    }
   },
   "source": [
    "df[\"Assortativity\"].unique()"
   ],
   "outputs": [
    {
     "data": {
      "text/plain": [
       "array([-0.2324621 , -0.11517321, -0.12190796, -0.18905071, -0.17815057,\n",
       "       -0.18228886])"
      ]
     },
     "execution_count": 7,
     "metadata": {},
     "output_type": "execute_result"
    }
   ],
   "execution_count": 7
  },
  {
   "cell_type": "markdown",
   "id": "e395582e-3e71-4748-9d7b-2ed15f791d8c",
   "metadata": {},
   "source": [
    "**Valores do Coeficiente**\n",
    "- **\\( r > 0 \\)**: Indica uma rede assortativa, ou seja, existe uma tendência de nós semelhantes (em grau ou característica) estarem conectados.\n",
    "- **\\( r < 0 \\)**: Indica uma rede dissortativa, onde nós diferentes estão mais propensos a se conectar.\n",
    "- **\\( r = 0 \\)**: Indica que não há correlação aparente entre os nós conectados.\n",
    "\n",
    "**Conclusão**\n",
    "\n",
    "As assortatividades dos grafos analisados para diferentes regiões da Twitch são todas **negativas e próximas de 0**, indicando que as redes apresentam uma leve tendência dissortativa. Isto sugere que os nós com alto grau de conexões, como streamers com muitas amizades na plataforma, tendem a conectar-se com nós de baixo grau, como contas com menos conexões. \n",
    "\n",
    "No contexto da Twitch, este comportamento pode ser explicado pelo fato de que contas com menor grau frequentemente se conectam não apenas ao streamer principal (o hub da rede), mas também entre si, formando subgrupos locais de interação dentro da comunidade do streamer. Esta estrutura cria uma rede relativamente equilibrada e interligada, com um papel central desempenhado pelos hubs, mas sem uma polarização extrema nas conexões."
   ]
  },
  {
   "cell_type": "markdown",
   "id": "25c50759-10c4-492c-9890-b9b0beb32c73",
   "metadata": {},
   "source": [
    "---"
   ]
  },
  {
   "cell_type": "markdown",
   "id": "8dc5201b-cc55-45dd-a160-788537f1a443",
   "metadata": {},
   "source": [
    "### Diameter & Average Path Length"
   ]
  },
  {
   "cell_type": "markdown",
   "id": "a35cf2cf-eb4a-4bf3-b138-0fb9c3970926",
   "metadata": {},
   "source": [
    "- **Diameter**: O diâmetro de um grafo é a maior distância mínima (geodésica) entre dois nós no grafo. Representa o caminho mais longo, em termos de número de arestas, que conecta dois nós na rede.\n",
    "- **Average Path Length**: O comprimento médio dos caminhos é a média das distâncias mínimas (geodésicas) entre todos os pares de nós no grafo. Reflete a eficiência da conectividade da rede."
   ]
  },
  {
   "cell_type": "markdown",
   "id": "c59f5b16-6e54-46b8-8156-2aae3642dabd",
   "metadata": {},
   "source": [
    "**Análise dos Valores**\n",
    "\n",
    "| **Country** | **Diameter** | **Average Path Length** |\n",
    "|-------------|--------------|--------------------------|\n",
    "| PTBR        | 7            | 2.532                   |\n",
    "| DE          | 7            | 2.722                   |\n",
    "| ENGB        | 10           | 3.678                   |\n",
    "| ES          | 9            | 2.883                   |\n",
    "| FR          | 7            | 2.681                   |\n",
    "| RU          | 9            | 3.021                   |\n",
    "\n",
    "**Observações**\n",
    "1. **Diâmetro:**\n",
    "   - O diâmetro mais elevado foi registado na região **ENGB**, com um valor de **10**, indicando que as redes dessa região têm uma maior dispersão em termos de conectividade.\n",
    "   - As regiões **PTBR**, **DE** e **FR** apresentam um diâmetro mais reduzido (**7**), o que sugere uma rede mais compacta.\n",
    "\n",
    "2. **Comprimento Médio dos Caminhos:**\n",
    "   - **PTBR** possui o menor comprimento médio dos caminhos (**2.532**), sugerindo uma rede eficiente com conexões curtas entre os nós.\n",
    "   - **ENGB** apresenta o maior comprimento médio (**3.678**), indicando uma rede com caminhos relativamente mais longos entre os nós.\n",
    "\n",
    "**Conclusão**\n",
    "\n",
    "As diferenças observadas no **diâmetro** e no **comprimento médio dos caminhos** refletem variações na estrutura das redes da Twitch entre as diferentes regiões. Regiões como **PTBR** possuem redes mais compactas e conectadas, enquanto **ENGB** evidencia uma rede mais dispersa, com maior distância média entre os nós. Esta disparidade pode estar associada à densidade e organização das comunidades dentro de cada região."
   ]
  },
  {
   "cell_type": "markdown",
   "id": "30ba7970-1930-462d-87d2-4ccc300d6e77",
   "metadata": {},
   "source": [
    "---"
   ]
  },
  {
   "cell_type": "markdown",
   "id": "d8bc9f85-a285-4ec3-ab18-e8c7516f7c28",
   "metadata": {},
   "source": [
    "### Average Clustering Coefficient"
   ]
  },
  {
   "cell_type": "markdown",
   "id": "2cdc7b21-8a5c-47ac-a3a6-1ccc918f134f",
   "metadata": {},
   "source": [
    "**Definição:**\n",
    "- O **Average Clustering Coefficient** mede o grau médio de agrupamento dos nós em uma rede. Indica a probabilidade de que os vizinhos de um nó estejam conectados entre si, refletindo a presença de estruturas locais densamente conectadas.\n",
    "\n",
    "**Valores Observados**\n",
    "\n",
    "| **Country** | **Average Clustering Coefficient** |\n",
    "|-------------|------------------------------------|\n",
    "| PTBR        | 0.320                              |\n",
    "| DE          | 0.201                              |\n",
    "| ENGB        | 0.131                              |\n",
    "| ES          | 0.222                              |\n",
    "| FR          | 0.222                              |\n",
    "| RU          | 0.166                              |\n",
    "\n",
    "**Observações**\n",
    "1. **PTBR** apresenta o maior coeficiente médio de agrupamento (**0.320**), indicando uma rede com maior densidade local e uma forte tendência de formação de comunidades.\n",
    "2. **ENGB** tem o menor coeficiente médio (**0.131**), sugerindo uma estrutura menos agrupada, com menor interconexão entre os vizinhos.\n",
    "3. Regiões como **ES** e **FR** apresentam coeficientes similares (**0.222**), sugerindo características estruturais locais semelhantes.\n",
    "\n",
    "**Conclusão:**\n",
    "- Os valores do **Average Clustering Coefficient** mostram variações significativas no grau de agrupamento entre as regiões da Twitch. Redes como a de **PTBR** evidenciam uma maior densidade local, possivelmente refletindo comunidades mais coesas, enquanto regiões como **ENGB** apresentam uma estrutura mais dispersa e menos conectada localmente.\n"
   ]
  }
 ],
 "metadata": {
  "kernelspec": {
   "display_name": "Python 3 (ipykernel)",
   "language": "python",
   "name": "python3"
  },
  "language_info": {
   "codemirror_mode": {
    "name": "ipython",
    "version": 3
   },
   "file_extension": ".py",
   "mimetype": "text/x-python",
   "name": "python",
   "nbconvert_exporter": "python",
   "pygments_lexer": "ipython3",
   "version": "3.12.7"
  }
 },
 "nbformat": 4,
 "nbformat_minor": 5
}
