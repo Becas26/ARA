{
 "cells": [
  {
   "cell_type": "markdown",
   "metadata": {},
   "source": [
    "# Aula Prática 4 — Objetos\n",
    "\n",
    "Esta aula tem como objetivo experimentar a criação e manipulação de objetos. Após a realização da prática, deverá ter sido adquirida uma noção básica dos seguintes conceitos:\n",
    "\n",
    "- Objeto\n",
    "- Construção de um objeto\n",
    "- Operações de um objeto (funções e procedimentos)\n",
    "- Estado de um objeto\n",
    "- Tipo de um objeto\n",
    "\n",
    "## Trabalho prévio\n",
    "\n",
    "Desenvolva um módulo com funções e procedimentos que permitam:\n",
    "\n",
    "#### 1. Escrever no ecrã uma cadeia de caracteres de forma a que cada carácter apareça numa linha.\n",
    "\n",
    "        print_one_letter_per_line('HAL')\n",
    "        H\n",
    "        A\n",
    "        L"
   ]
  },
  {
   "cell_type": "code",
   "execution_count": 4,
   "metadata": {},
   "outputs": [
    {
     "name": "stdout",
     "output_type": "stream",
     "text": [
      "H\n",
      "A\n",
      "L\n"
     ]
    }
   ],
   "source": [
    "def print_one_letter_per_line(x: str):\n",
    "    i = len(x)\n",
    "    t = 0\n",
    "    while t != i:\n",
    "        print(x[t])\n",
    "        t += 1\n",
    "\n",
    "print_one_letter_per_line('HAL')"
   ]
  },
  {
   "cell_type": "markdown",
   "metadata": {},
   "source": [
    "#### 2. Devolver o módulo de um número complexo.\n",
    "O módulo de um número complexo obtém-se fazendo a raiz quadrada da soma do quadrado da parte real com o quadrado da parte imaginária.\n",
    "Exemplo:\n",
    "\n",
    "        modulus(2 + 3j) ➝ 3,6"
   ]
  },
  {
   "cell_type": "code",
   "execution_count": 9,
   "metadata": {},
   "outputs": [
    {
     "data": {
      "text/plain": [
       "3.605551275463989"
      ]
     },
     "execution_count": 9,
     "metadata": {},
     "output_type": "execute_result"
    }
   ],
   "source": [
    "def modulus(z: complex):\n",
    "    return ((z.real ** 2) + (z.imag ** 2))**0.5\n",
    "\n",
    "\n",
    "z = complex(2, 3)\n",
    "modulus(z)"
   ]
  },
  {
   "cell_type": "markdown",
   "metadata": {},
   "source": [
    "## Exercícios\n",
    "\n",
    "#### 1. Defina um procedimento que dada uma cadeia de caracteres escreve no ecrã essa cadeia de caracteres de forma a que cada carácter apareça numa linha, por ordem inversa.\n",
    "Exemplo:\n",
    "\n",
    "        print_one_letter_per_line_inverted('GOD')\n",
    "        D\n",
    "        O\n",
    "        G"
   ]
  },
  {
   "cell_type": "code",
   "execution_count": 12,
   "metadata": {},
   "outputs": [
    {
     "name": "stdout",
     "output_type": "stream",
     "text": [
      "D\n",
      "O\n",
      "G\n"
     ]
    }
   ],
   "source": [
    "def print_one_letter_per_line_inverted(x):\n",
    "    i = len(x)\n",
    "    t = 1\n",
    "    while t != i + 1:\n",
    "        print(x[-t])\n",
    "        t += 1\n",
    "print_one_letter_per_line_inverted('GOD')"
   ]
  },
  {
   "cell_type": "markdown",
   "metadata": {},
   "source": [
    "#### 2. Defina uma função que dada uma cadeia de caracteres devolva o número de letras maiúsculas que esta contém.\n",
    "O tipo cadeia de caracteres (`str`) tem uma função que devolve verdadeiro caso todos os caracteres de uma cadeia de caracteres sejam maiúsculas — `isupper()`."
   ]
  },
  {
   "cell_type": "code",
   "execution_count": 21,
   "metadata": {},
   "outputs": [
    {
     "data": {
      "text/plain": [
       "False"
      ]
     },
     "execution_count": 21,
     "metadata": {},
     "output_type": "execute_result"
    }
   ],
   "source": [
    "def maiuscula(x: str) -> bool:\n",
    "    return x.isupper()\n",
    "\n",
    "maiuscula('Oi')"
   ]
  },
  {
   "cell_type": "markdown",
   "metadata": {},
   "source": [
    "#### 3. Defina os procedimentos e as funções necessárias para jogar o jogo do enforcado. \n",
    "No jogo do enforcado, o jogador tem de adivinhar uma palavra que desconhece perguntado em cada jogada se uma dada letra existe na palavra. Sempre que a letra pedida existe na palavra é mostrada a palavra com todas as letras que pedidas que estavam correctas. Sempre que a letra não existe é contabilizada uma tentativa errada. O jogador tem um determinado número de tentativas erradas para adivinhar a palavras. Se ultrapassar esse número de tentativas, perde. Para jogar o jogo deve invocar o procedimento `play_hangman()` como abaixo.\n",
    "\n",
    "        play_hangman('Programming', 5)\n",
    "        \n",
    "        Adivinhe a palavra: ___________\n",
    "        Letra:  a\n",
    "        Adivinhe a palavra: _____a_____\n",
    "        Letra:  m\n",
    "        Adivinhe a palavra: _____amm___\n",
    "        Letra:  p\n",
    "        Errou, já só faltam 4 tentativas\n",
    "        Adivinhe a palavra: _____amm___"
   ]
  },
  {
   "cell_type": "code",
   "execution_count": 51,
   "metadata": {},
   "outputs": [
    {
     "name": "stdout",
     "output_type": "stream",
     "text": [
      "A palavra secreta é a seguinte: ___\n",
      "\n"
     ]
    },
    {
     "name": "stdin",
     "output_type": "stream",
     "text": [
      "Escolha uma letra: P\n"
     ]
    },
    {
     "name": "stdout",
     "output_type": "stream",
     "text": [
      "Boa! Acertaste a letra \n",
      "\n",
      "A palavra secreta é a seguinte: P__\n",
      "\n"
     ]
    },
    {
     "name": "stdin",
     "output_type": "stream",
     "text": [
      "Escolha uma letra: r\n"
     ]
    },
    {
     "name": "stdout",
     "output_type": "stream",
     "text": [
      "Boa! Acertaste a letra \n",
      "\n",
      "A palavra secreta é a seguinte: Pr_\n",
      "\n"
     ]
    },
    {
     "name": "stdin",
     "output_type": "stream",
     "text": [
      "Escolha uma letra: o\n"
     ]
    },
    {
     "name": "stdout",
     "output_type": "stream",
     "text": [
      "Boa! Acertaste a letra \n",
      "\n",
      "=============================\n",
      "A palavra correta era: Pro\n"
     ]
    }
   ],
   "source": [
    "def mask(x):\n",
    "    i = len(x)\n",
    "    return \"_\" * i\n",
    "\n",
    "def play_hangman(word: str, lives: int):\n",
    "    mask1 = mask(word)\n",
    "    repetidos = \"\"\n",
    "    while lives > 0 and mask1 != word:\n",
    "        print(f\"A palavra secreta é a seguinte: {mask1}\\n\")\n",
    "        y = input(\"Escolha uma letra:\")\n",
    "        while len(y) != 1 and y in repetidos:\n",
    "            y = input(\"Tem de ser uma letra única e não repetida!\")\n",
    "        if y in word:\n",
    "            repetidos += y\n",
    "            temporario = 0\n",
    "            while temporario != len(word):\n",
    "                if word[temporario] == y:\n",
    "                    mask1 = mask1[:temporario] + y + mask1[temporario + 1:]\n",
    "                temporario += 1\n",
    "            print(\"Boa! Acertaste a letra \\n\")\n",
    "        else:\n",
    "            lives -= 1\n",
    "            print(f\"Erraste, tenta novamente. Ainda tens {lives} vidas \\n\")\n",
    "    print(f\"=============================\")      \n",
    "    print(f\"A palavra correta era: {word}\")\n",
    "        \n",
    "        \n",
    "\n",
    "play_hangman('Pro', 5)"
   ]
  }
 ],
 "metadata": {
  "kernelspec": {
   "display_name": "Python 3 (ipykernel)",
   "language": "python",
   "name": "python3"
  },
  "language_info": {
   "codemirror_mode": {
    "name": "ipython",
    "version": 3
   },
   "file_extension": ".py",
   "mimetype": "text/x-python",
   "name": "python",
   "nbconvert_exporter": "python",
   "pygments_lexer": "ipython3",
   "version": "3.12.7"
  }
 },
 "nbformat": 4,
 "nbformat_minor": 4
}
